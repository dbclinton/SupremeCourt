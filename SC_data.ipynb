{
 "cells": [
  {
   "cell_type": "code",
   "execution_count": 4,
   "id": "66ffcbbe-4afe-47db-a490-fd3631a1c4cb",
   "metadata": {
    "tags": []
   },
   "outputs": [],
   "source": [
    "import pandas as pd\n",
    "import matplotlib.pyplot as plt"
   ]
  },
  {
   "cell_type": "code",
   "execution_count": 5,
   "id": "42dbf790-d2e3-4d62-aab6-d63cd02a8f93",
   "metadata": {
    "tags": []
   },
   "outputs": [],
   "source": [
    "df2013 = pd.read_csv('/home/ubuntu/supreme_court/data/data_2013.csv')\n",
    "df2014 = pd.read_csv('/home/ubuntu/supreme_court/data/data_2014.csv')\n",
    "df2015 = pd.read_csv('/home/ubuntu/supreme_court/data/data_2015.csv')\n",
    "df2016 = pd.read_csv('/home/ubuntu/supreme_court/data/data_2016.csv')\n",
    "df2017 = pd.read_csv('/home/ubuntu/supreme_court/data/data_2017.csv')\n",
    "df2018 = pd.read_csv('/home/ubuntu/supreme_court/data/data_2018.csv')\n",
    "df2019 = pd.read_csv('/home/ubuntu/supreme_court/data/data_2019.csv')\n",
    "df2020 = pd.read_csv('/home/ubuntu/supreme_court/data/data_2020.csv')\n",
    "df2021 = pd.read_csv('/home/ubuntu/supreme_court/data/data_2021.csv')\n",
    "df2022 = pd.read_csv('/home/ubuntu/supreme_court/data/data_2022.csv')\n",
    "df2023 = pd.read_csv('/home/ubuntu/supreme_court/data/data_2023.csv')"
   ]
  },
  {
   "cell_type": "code",
   "execution_count": 6,
   "id": "35b114b2-d5bf-4ab7-bc0a-9634517afc49",
   "metadata": {
    "tags": []
   },
   "outputs": [],
   "source": [
    "df_all = pd.concat([df2013, df2014, df2015, df2016, df2017, df2018, df2019, \\\n",
    "                    df2020, df2021, df2022, df2023])"
   ]
  },
  {
   "cell_type": "code",
   "execution_count": null,
   "id": "e73cb7d7-5d12-4c9f-aff8-14fb4630ed0f",
   "metadata": {
    "tags": []
   },
   "outputs": [],
   "source": [
    "# Calculate total number of decisions:\n",
    "num_rows = len(df_all)\n",
    "# Calculate unanimous decisions:\n",
    "num_nan_rows = df_all['Dissenting'].isna().sum()\n",
    "# Calculate percentage of decisions that were unanimous:\n",
    "perc_una = num_nan_rows / num_rows\n",
    "perc_una"
   ]
  },
  {
   "cell_type": "code",
   "execution_count": 7,
   "id": "0dee1c53-aac6-4843-a2a1-6de08e5715c7",
   "metadata": {
    "tags": []
   },
   "outputs": [],
   "source": [
    "# Create dataframe containing only decisions with dissent:\n",
    "df_dissent = df_all[df_all['Dissenting'].notna()]"
   ]
  },
  {
   "cell_type": "code",
   "execution_count": 8,
   "id": "8350e87e-545b-4064-8f57-ba8bbd647d9f",
   "metadata": {
    "tags": []
   },
   "outputs": [],
   "source": [
    "df_constitution = df_dissent[df_dissent['Subjects'] == 'Constitutional law']"
   ]
  },
  {
   "cell_type": "code",
   "execution_count": 9,
   "id": "51c6e513-f6c6-4109-b699-fde0b54648d4",
   "metadata": {
    "tags": []
   },
   "outputs": [
    {
     "data": {
      "text/plain": [
       "(17, 14)"
      ]
     },
     "execution_count": 9,
     "metadata": {},
     "output_type": "execute_result"
    }
   ],
   "source": [
    "df_constitution.shape"
   ]
  },
  {
   "cell_type": "code",
   "execution_count": null,
   "id": "2f7119d3-cf39-49ea-a5ef-2c4f3b9b3f17",
   "metadata": {},
   "outputs": [],
   "source": []
  },
  {
   "cell_type": "code",
   "execution_count": 21,
   "id": "a85a07c6-9fe8-41bf-9080-99f5502158b9",
   "metadata": {
    "tags": []
   },
   "outputs": [],
   "source": [
    "# Define \"caucuses\"\n",
    "harper_justices = ['Brown', 'Côté', 'Gascon', 'Wagner', 'Moldaver', 'Karakatsanis', 'Cromwell']\n",
    "trudeau_justices = ['Bonsawin', 'Jamal', 'Kasirer', 'Martin', 'Rowe']\n",
    "# set \"or\" selector\n",
    "pattern1 = '|'.join(harper_justices)\n",
    "pattern2 = '|'.join(trudeau_justices)"
   ]
  },
  {
   "cell_type": "code",
   "execution_count": 34,
   "id": "e5e06b3f-55bc-49a2-835e-4bf6cbdca2c4",
   "metadata": {
    "tags": []
   },
   "outputs": [],
   "source": [
    "# Calculate dissent rates for all non-unanimous decisions:\n",
    "df_conservative_total_ruling = df_dissent[~df_dissent['Dissenting'].str.contains(pattern1)]\n",
    "df_liberal_total_ruling = df_dissent[~df_dissent['Dissenting'].str.contains(pattern2)]"
   ]
  },
  {
   "cell_type": "code",
   "execution_count": 37,
   "id": "769edba9-07ec-43a8-a2d5-cefffcfcc7f5",
   "metadata": {
    "tags": []
   },
   "outputs": [
    {
     "data": {
      "text/plain": [
       "(4, 14)"
      ]
     },
     "execution_count": 37,
     "metadata": {},
     "output_type": "execute_result"
    }
   ],
   "source": [
    "df_conservative_total_ruling.shape"
   ]
  },
  {
   "cell_type": "code",
   "execution_count": 38,
   "id": "ef6c46c8-f128-4bed-b72a-95ad28e83ecf",
   "metadata": {
    "tags": []
   },
   "outputs": [
    {
     "data": {
      "text/plain": [
       "(61, 14)"
      ]
     },
     "execution_count": 38,
     "metadata": {},
     "output_type": "execute_result"
    }
   ],
   "source": [
    "df_liberal_total_ruling.shape"
   ]
  },
  {
   "cell_type": "code",
   "execution_count": 40,
   "id": "ad80bbfd-5258-4b97-b93c-fb9b66260040",
   "metadata": {
    "tags": []
   },
   "outputs": [
    {
     "data": {
      "text/plain": [
       "(5, 27)"
      ]
     },
     "execution_count": 40,
     "metadata": {},
     "output_type": "execute_result"
    }
   ],
   "source": [
    "# Filter for results where the dissent was from pre-Harper justices\n",
    "matching_rows_all = pd.merge(df_conservative_total_ruling, df_liberal_total_ruling, on=['Dissenting'])\n",
    "matching_rows_all.shape"
   ]
  },
  {
   "cell_type": "code",
   "execution_count": 42,
   "id": "0a486c54-68dd-4f11-a56a-17ac32f42d49",
   "metadata": {
    "tags": []
   },
   "outputs": [],
   "source": [
    "# Calculate dissent rates for only unanimous decisions:\n",
    "df_conservative_constitution_ruling = df_constitution[~df_constitution['Dissenting'].str.contains(pattern1)]\n",
    "df_liberal_constitution_ruling = df_constitution[~df_constitution['Dissenting'].str.contains(pattern2)]"
   ]
  },
  {
   "cell_type": "code",
   "execution_count": 44,
   "id": "9780c45a-e7f3-4e04-a7dc-ae2704346c14",
   "metadata": {
    "tags": []
   },
   "outputs": [
    {
     "data": {
      "text/plain": [
       "(1, 27)"
      ]
     },
     "execution_count": 44,
     "metadata": {},
     "output_type": "execute_result"
    }
   ],
   "source": [
    "# Filter for results where the dissent was from pre-Harper justices\n",
    "matching_rows_constitution = pd.merge(df_conservative_constitution_ruling, \\\n",
    "                         df_liberal_constitution_ruling, on=['Dissenting'])\n",
    "matching_rows_constitution.shape"
   ]
  },
  {
   "cell_type": "code",
   "execution_count": 46,
   "id": "e8258fbb-4eda-4104-b1aa-d65abea957ce",
   "metadata": {
    "tags": []
   },
   "outputs": [
    {
     "data": {
      "text/plain": [
       "(8, 14)"
      ]
     },
     "execution_count": 46,
     "metadata": {},
     "output_type": "execute_result"
    }
   ],
   "source": [
    "df_liberal_constitution_ruling.shape"
   ]
  },
  {
   "cell_type": "code",
   "execution_count": 47,
   "id": "56c0e3fe-d133-4f14-9420-bfbc7acecaed",
   "metadata": {
    "tags": []
   },
   "outputs": [
    {
     "data": {
      "text/plain": [
       "(1, 14)"
      ]
     },
     "execution_count": 47,
     "metadata": {},
     "output_type": "execute_result"
    }
   ],
   "source": [
    "df_conservative_constitution_ruling.shape"
   ]
  },
  {
   "cell_type": "code",
   "execution_count": null,
   "id": "14e80b27-01c6-4c61-8d3f-4357c50d394c",
   "metadata": {},
   "outputs": [],
   "source": []
  },
  {
   "cell_type": "code",
   "execution_count": 2,
   "id": "08d99920-f168-409c-94c6-f1f27dde47f9",
   "metadata": {
    "tags": []
   },
   "outputs": [],
   "source": [
    "uj = pd.read_csv('/home/ubuntu/supreme_court/data/unanimous_judgments.csv')"
   ]
  },
  {
   "cell_type": "code",
   "execution_count": 3,
   "id": "7b0b9ecf-c1f4-46d7-8503-092121b8daf6",
   "metadata": {
    "tags": []
   },
   "outputs": [
    {
     "data": {
      "image/png": "[encoded data removed]",
      "text/plain": [
       "<Figure size 640x480 with 1 Axes>"
      ]
     },
     "metadata": {},
     "output_type": "display_data"
    }
   ],
   "source": [
    "# Generate graph of unanimous votes\n",
    "# Cannot be executed twice(!?)\n",
    "uj['Year'] = pd.to_datetime(uj['Year'], format='%Y')\n",
    "uj.set_index('Year', inplace=True)\n",
    "uj.plot(kind='bar')\n",
    "plt.ylabel('Percentage')\n",
    "plt.title('Percentage of Decisions That Were Unanimous')\n",
    "plt.xticks(rotation=45)\n",
    "plt.gca().xaxis.set_major_formatter(plt.FixedFormatter(uj.index.strftime('%Y')))\n",
    "plt.show()"
   ]
  },
  {
   "cell_type": "code",
   "execution_count": null,
   "id": "17be0ded-209d-42fe-8271-214ffa684986",
   "metadata": {
    "tags": []
   },
   "outputs": [],
   "source": []
  },
  {
   "cell_type": "code",
   "execution_count": null,
   "id": "98d8eef2-4a41-464f-b9f0-60a49aefb35f",
   "metadata": {
    "tags": []
   },
   "outputs": [],
   "source": []
  }
 ],
 "metadata": {
  "kernelspec": {
   "display_name": "Python 3 (ipykernel)",
   "language": "python",
   "name": "python3"
  },
  "language_info": {
   "codemirror_mode": {
    "name": "ipython",
    "version": 3
   },
   "file_extension": ".py",
   "mimetype": "text/x-python",
   "name": "python",
   "nbconvert_exporter": "python",
   "pygments_lexer": "ipython3",
   "version": "3.10.6"
  }
 },
 "nbformat": 4,
 "nbformat_minor": 5
}
